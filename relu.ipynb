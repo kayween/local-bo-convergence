{
 "cells": [
  {
   "cell_type": "code",
   "execution_count": 1,
   "id": "2f00eb3f",
   "metadata": {},
   "outputs": [
    {
     "name": "stderr",
     "output_type": "stream",
     "text": [
      "/home/kaiwen/anaconda3/envs/common-descent/lib/python3.9/site-packages/tqdm/auto.py:21: TqdmWarning: IProgress not found. Please update jupyter and ipywidgets. See https://ipywidgets.readthedocs.io/en/stable/user_install.html\n",
      "  from .autonotebook import tqdm as notebook_tqdm\n"
     ]
    }
   ],
   "source": [
    "import random\n",
    "\n",
    "import numpy as np\n",
    "\n",
    "import torch\n",
    "from gradient_estimation import relu, test"
   ]
  },
  {
   "cell_type": "code",
   "execution_count": 2,
   "id": "44752811",
   "metadata": {},
   "outputs": [
    {
     "name": "stderr",
     "output_type": "stream",
     "text": [
      "/home/kaiwen/anaconda3/envs/common-descent/lib/python3.9/site-packages/linear_operator/operators/_linear_operator.py:937: UserWarning: To copy construct from a tensor, it is recommended to use sourceTensor.clone().detach() or sourceTensor.clone().detach().requires_grad_(True), rather than torch.tensor(sourceTensor).\n",
      "  diag = torch.tensor(jitter_val, dtype=self.dtype, device=self.device)\n",
      "  0%|                                                                                                                                                                              | 0/200 [00:00<?, ?it/s]/home/kaiwen/Desktop/local-bo-convergence/zoofoo/BFGS/LBFGS.py:296: UserWarning: This overload of add_ is deprecated:\n",
      "\tadd_(Number alpha, Tensor other)\n",
      "Consider using one of the following signatures instead:\n",
      "\tadd_(Tensor other, *, Number alpha) (Triggered internally at ../torch/csrc/utils/python_arg_parser.cpp:1485.)\n",
      "  p.data.add_(step_size, update[offset : offset + numel].view_as(p.data))\n",
      " 14%|█████████████████▊                                                                                                                  | 27/200 [00:00<00:01, 139.11it/s, loss=0.0161, lr=0.1, ls_step=0]\n"
     ]
    },
    {
     "name": "stdout",
     "output_type": "stream",
     "text": [
      "torch.Size([2, 1])\n",
      "torch.Size([2])\n"
     ]
    },
    {
     "name": "stderr",
     "output_type": "stream",
     "text": [
      "100%|█████████████████████████████████████████████████████████████████████████████████████████████████████████████████████| 50/50 [00:00<00:00, 230.56it/s, loss=-1.46, ls=0.0197, os=0.000145, sn=0.00304]\n"
     ]
    },
    {
     "name": "stdout",
     "output_type": "stream",
     "text": [
      "nabla mu tensor([0.0002], device='cuda:0')\n",
      "tensor([[ 1.4506e-04, -1.1689e-13],\n",
      "        [-1.1689e-13,  6.2008e-01]], device='cuda:0')\n",
      "trace 0.6200807822967911\n"
     ]
    },
    {
     "data": {
      "image/png": "[encoded data removed]",
      "text/plain": [
       "<Figure size 600x400 with 1 Axes>"
      ]
     },
     "metadata": {},
     "output_type": "display_data"
    }
   ],
   "source": [
    "import matplotlib.pyplot as plt\n",
    "import seaborn as sns\n",
    "\n",
    "torch.set_default_dtype(torch.float64)\n",
    "\n",
    "seed = 4321\n",
    "\n",
    "random.seed(seed)\n",
    "np.random.seed(seed)\n",
    "torch.manual_seed(seed)\n",
    "\n",
    "device = \"cuda:0\"\n",
    "\n",
    "x = torch.tensor([0.], device=device).unsqueeze(-2)\n",
    "\n",
    "g, train_x, train_y = test(objective=relu, x=x, batch_size=2, device=device)\n",
    "\n",
    "xx = np.linspace(-2, 1, num=1000)\n",
    "yy = relu(torch.tensor(xx).unsqueeze(-1), noise_std=0.)\n",
    "\n",
    "sns.set_theme()\n",
    "sns.set_context(\"paper\")\n",
    "sns.set_style(\"darkgrid\")\n",
    "\n",
    "fig = plt.figure(figsize=(6, 4))\n",
    "\n",
    "plt.plot(xx, yy, label='ReLU', linewidth=2, zorder=1)\n",
    "plt.scatter(train_x.squeeze().cpu().numpy(), train_y.cpu().numpy(), c='g', s=100, label='data', zorder=2)\n",
    "plt.scatter([0], [0], marker='s', c='r', s=100, label=r'$\\mathbf{x}$', zorder=2)\n",
    "plt.legend(fontsize=12)\n",
    "\n",
    "plt.xlim(-2.1, 1.1)\n",
    "plt.ylim(-0.1, 1.1)\n",
    "plt.xticks(fontsize=18)\n",
    "plt.yticks(fontsize=18)\n",
    "plt.legend(fontsize=20)\n",
    "\n",
    "plt.tight_layout()\n",
    "plt.show()\n",
    "\n",
    "# fig.savefig(\"relu_batch_2.eps\")\n",
    "# fig.savefig(\"relu_batch_4.eps\")"
   ]
  },
  {
   "cell_type": "code",
   "execution_count": null,
   "id": "e8de4375",
   "metadata": {},
   "outputs": [],
   "source": []
  }
 ],
 "metadata": {
  "kernelspec": {
   "display_name": "Python 3 (ipykernel)",
   "language": "python",
   "name": "python3"
  },
  "language_info": {
   "codemirror_mode": {
    "name": "ipython",
    "version": 3
   },
   "file_extension": ".py",
   "mimetype": "text/x-python",
   "name": "python",
   "nbconvert_exporter": "python",
   "pygments_lexer": "ipython3",
   "version": "3.9.16"
  }
 },
 "nbformat": 4,
 "nbformat_minor": 5
}
